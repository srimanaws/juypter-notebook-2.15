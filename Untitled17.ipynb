{
 "cells": [
  {
   "cell_type": "code",
   "execution_count": 2,
   "id": "7fbbc86f-d4a1-4d61-8415-ca19a7be03bf",
   "metadata": {},
   "outputs": [
    {
     "name": "stdin",
     "output_type": "stream",
     "text": [
      "Enter the first number:  7\n",
      "Enter the second number:  5\n",
      "Enter the third number:  8\n"
     ]
    },
    {
     "name": "stdout",
     "output_type": "stream",
     "text": [
      "5.0 7.0 8.0\n"
     ]
    }
   ],
   "source": [
    "# Lab 2 by Sriman\n",
    "# Exercise 2.15: Sort in Ascending Order\n",
    "\n",
    "# Prompt the user for three floating-point numbers\n",
    "num1 = float(input(\"Enter the first number: \"))\n",
    "num2 = float(input(\"Enter the second number: \"))\n",
    "num3 = float(input(\"Enter the third number: \"))\n",
    "\n",
    "# Sort and display the numbers in ascending order using if-else statements\n",
    "if num1 <= num2 <= num3:\n",
    "    print(num1, num2, num3)\n",
    "elif num1 <= num3 <= num2:\n",
    "    print(num1, num3, num2)\n",
    "elif num2 <= num1 <= num3:\n",
    "    print(num2, num1, num3)\n",
    "elif num2 <= num3 <= num1:\n",
    "    print(num2, num3, num1)\n",
    "elif num3 <= num1 <= num2:\n",
    "    print(num3, num1, num2)\n",
    "else:\n",
    "    print(num3, num2, num1)\n"
   ]
  },
  {
   "cell_type": "code",
   "execution_count": null,
   "id": "265e525e-b45a-4785-ab96-648361eb4db4",
   "metadata": {},
   "outputs": [],
   "source": []
  }
 ],
 "metadata": {
  "kernelspec": {
   "display_name": "Python 3 (ipykernel)",
   "language": "python",
   "name": "python3"
  },
  "language_info": {
   "codemirror_mode": {
    "name": "ipython",
    "version": 3
   },
   "file_extension": ".py",
   "mimetype": "text/x-python",
   "name": "python",
   "nbconvert_exporter": "python",
   "pygments_lexer": "ipython3",
   "version": "3.12.4"
  }
 },
 "nbformat": 4,
 "nbformat_minor": 5
}
